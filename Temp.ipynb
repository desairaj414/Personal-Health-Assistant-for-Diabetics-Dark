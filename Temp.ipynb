{
 "cells": [
  {
   "cell_type": "code",
   "execution_count": 27,
   "metadata": {},
   "outputs": [],
   "source": [
    "import numpy as np\n",
    "import pandas as pd"
   ]
  },
  {
   "cell_type": "code",
   "execution_count": 28,
   "metadata": {},
   "outputs": [],
   "source": [
    "df = pd.read_csv('PIMA.csv')"
   ]
  },
  {
   "cell_type": "code",
   "execution_count": 29,
   "metadata": {},
   "outputs": [
    {
     "output_type": "execute_result",
     "data": {
      "text/plain": [
       "9"
      ]
     },
     "metadata": {},
     "execution_count": 29
    }
   ],
   "source": [
    "len(df.columns)"
   ]
  },
  {
   "cell_type": "code",
   "execution_count": 30,
   "metadata": {},
   "outputs": [
    {
     "output_type": "execute_result",
     "data": {
      "text/plain": [
       "(2000, 9)"
      ]
     },
     "metadata": {},
     "execution_count": 30
    }
   ],
   "source": [
    "df.shape"
   ]
  },
  {
   "cell_type": "code",
   "execution_count": 31,
   "metadata": {},
   "outputs": [
    {
     "output_type": "execute_result",
     "data": {
      "text/plain": [
       "      Pregnancies  Glucose  BloodPressure  SkinThickness  Insulin   BMI  \\\n",
       "0               2      138             62             35        0  33.6   \n",
       "1               0       84             82             31      125  38.2   \n",
       "2               0      145              0              0        0  44.2   \n",
       "3               0      135             68             42      250  42.3   \n",
       "4               1      139             62             41      480  40.7   \n",
       "...           ...      ...            ...            ...      ...   ...   \n",
       "1995            2       75             64             24       55  29.7   \n",
       "1996            8      179             72             42      130  32.7   \n",
       "1997            6       85             78              0        0  31.2   \n",
       "1998            0      129            110             46      130  67.1   \n",
       "1999            2       81             72             15       76  30.1   \n",
       "\n",
       "      DiabetesPedigreeFunction  Age  Outcome  \n",
       "0                        0.127   47        1  \n",
       "1                        0.233   23        0  \n",
       "2                        0.630   31        1  \n",
       "3                        0.365   24        1  \n",
       "4                        0.536   21        0  \n",
       "...                        ...  ...      ...  \n",
       "1995                     0.370   33        0  \n",
       "1996                     0.719   36        1  \n",
       "1997                     0.382   42        0  \n",
       "1998                     0.319   26        1  \n",
       "1999                     0.547   25        0  \n",
       "\n",
       "[2000 rows x 9 columns]"
      ],
      "text/html": "<div>\n<style scoped>\n    .dataframe tbody tr th:only-of-type {\n        vertical-align: middle;\n    }\n\n    .dataframe tbody tr th {\n        vertical-align: top;\n    }\n\n    .dataframe thead th {\n        text-align: right;\n    }\n</style>\n<table border=\"1\" class=\"dataframe\">\n  <thead>\n    <tr style=\"text-align: right;\">\n      <th></th>\n      <th>Pregnancies</th>\n      <th>Glucose</th>\n      <th>BloodPressure</th>\n      <th>SkinThickness</th>\n      <th>Insulin</th>\n      <th>BMI</th>\n      <th>DiabetesPedigreeFunction</th>\n      <th>Age</th>\n      <th>Outcome</th>\n    </tr>\n  </thead>\n  <tbody>\n    <tr>\n      <th>0</th>\n      <td>2</td>\n      <td>138</td>\n      <td>62</td>\n      <td>35</td>\n      <td>0</td>\n      <td>33.6</td>\n      <td>0.127</td>\n      <td>47</td>\n      <td>1</td>\n    </tr>\n    <tr>\n      <th>1</th>\n      <td>0</td>\n      <td>84</td>\n      <td>82</td>\n      <td>31</td>\n      <td>125</td>\n      <td>38.2</td>\n      <td>0.233</td>\n      <td>23</td>\n      <td>0</td>\n    </tr>\n    <tr>\n      <th>2</th>\n      <td>0</td>\n      <td>145</td>\n      <td>0</td>\n      <td>0</td>\n      <td>0</td>\n      <td>44.2</td>\n      <td>0.630</td>\n      <td>31</td>\n      <td>1</td>\n    </tr>\n    <tr>\n      <th>3</th>\n      <td>0</td>\n      <td>135</td>\n      <td>68</td>\n      <td>42</td>\n      <td>250</td>\n      <td>42.3</td>\n      <td>0.365</td>\n      <td>24</td>\n      <td>1</td>\n    </tr>\n    <tr>\n      <th>4</th>\n      <td>1</td>\n      <td>139</td>\n      <td>62</td>\n      <td>41</td>\n      <td>480</td>\n      <td>40.7</td>\n      <td>0.536</td>\n      <td>21</td>\n      <td>0</td>\n    </tr>\n    <tr>\n      <th>...</th>\n      <td>...</td>\n      <td>...</td>\n      <td>...</td>\n      <td>...</td>\n      <td>...</td>\n      <td>...</td>\n      <td>...</td>\n      <td>...</td>\n      <td>...</td>\n    </tr>\n    <tr>\n      <th>1995</th>\n      <td>2</td>\n      <td>75</td>\n      <td>64</td>\n      <td>24</td>\n      <td>55</td>\n      <td>29.7</td>\n      <td>0.370</td>\n      <td>33</td>\n      <td>0</td>\n    </tr>\n    <tr>\n      <th>1996</th>\n      <td>8</td>\n      <td>179</td>\n      <td>72</td>\n      <td>42</td>\n      <td>130</td>\n      <td>32.7</td>\n      <td>0.719</td>\n      <td>36</td>\n      <td>1</td>\n    </tr>\n    <tr>\n      <th>1997</th>\n      <td>6</td>\n      <td>85</td>\n      <td>78</td>\n      <td>0</td>\n      <td>0</td>\n      <td>31.2</td>\n      <td>0.382</td>\n      <td>42</td>\n      <td>0</td>\n    </tr>\n    <tr>\n      <th>1998</th>\n      <td>0</td>\n      <td>129</td>\n      <td>110</td>\n      <td>46</td>\n      <td>130</td>\n      <td>67.1</td>\n      <td>0.319</td>\n      <td>26</td>\n      <td>1</td>\n    </tr>\n    <tr>\n      <th>1999</th>\n      <td>2</td>\n      <td>81</td>\n      <td>72</td>\n      <td>15</td>\n      <td>76</td>\n      <td>30.1</td>\n      <td>0.547</td>\n      <td>25</td>\n      <td>0</td>\n    </tr>\n  </tbody>\n</table>\n<p>2000 rows × 9 columns</p>\n</div>"
     },
     "metadata": {},
     "execution_count": 31
    }
   ],
   "source": [
    "df"
   ]
  },
  {
   "cell_type": "code",
   "execution_count": 32,
   "metadata": {},
   "outputs": [
    {
     "output_type": "execute_result",
     "data": {
      "text/plain": [
       "       Pregnancies      Glucose  BloodPressure  SkinThickness      Insulin  \\\n",
       "count  2000.000000  2000.000000    2000.000000    2000.000000  2000.000000   \n",
       "mean      3.703500   121.182500      69.145500      20.935000    80.254000   \n",
       "std       3.306063    32.068636      19.188315      16.103243   111.180534   \n",
       "min       0.000000     0.000000       0.000000       0.000000     0.000000   \n",
       "25%       1.000000    99.000000      63.500000       0.000000     0.000000   \n",
       "50%       3.000000   117.000000      72.000000      23.000000    40.000000   \n",
       "75%       6.000000   141.000000      80.000000      32.000000   130.000000   \n",
       "max      17.000000   199.000000     122.000000     110.000000   744.000000   \n",
       "\n",
       "               BMI  DiabetesPedigreeFunction          Age      Outcome  \n",
       "count  2000.000000               2000.000000  2000.000000  2000.000000  \n",
       "mean     32.193000                  0.470930    33.090500     0.342000  \n",
       "std       8.149901                  0.323553    11.786423     0.474498  \n",
       "min       0.000000                  0.078000    21.000000     0.000000  \n",
       "25%      27.375000                  0.244000    24.000000     0.000000  \n",
       "50%      32.300000                  0.376000    29.000000     0.000000  \n",
       "75%      36.800000                  0.624000    40.000000     1.000000  \n",
       "max      80.600000                  2.420000    81.000000     1.000000  "
      ],
      "text/html": "<div>\n<style scoped>\n    .dataframe tbody tr th:only-of-type {\n        vertical-align: middle;\n    }\n\n    .dataframe tbody tr th {\n        vertical-align: top;\n    }\n\n    .dataframe thead th {\n        text-align: right;\n    }\n</style>\n<table border=\"1\" class=\"dataframe\">\n  <thead>\n    <tr style=\"text-align: right;\">\n      <th></th>\n      <th>Pregnancies</th>\n      <th>Glucose</th>\n      <th>BloodPressure</th>\n      <th>SkinThickness</th>\n      <th>Insulin</th>\n      <th>BMI</th>\n      <th>DiabetesPedigreeFunction</th>\n      <th>Age</th>\n      <th>Outcome</th>\n    </tr>\n  </thead>\n  <tbody>\n    <tr>\n      <th>count</th>\n      <td>2000.000000</td>\n      <td>2000.000000</td>\n      <td>2000.000000</td>\n      <td>2000.000000</td>\n      <td>2000.000000</td>\n      <td>2000.000000</td>\n      <td>2000.000000</td>\n      <td>2000.000000</td>\n      <td>2000.000000</td>\n    </tr>\n    <tr>\n      <th>mean</th>\n      <td>3.703500</td>\n      <td>121.182500</td>\n      <td>69.145500</td>\n      <td>20.935000</td>\n      <td>80.254000</td>\n      <td>32.193000</td>\n      <td>0.470930</td>\n      <td>33.090500</td>\n      <td>0.342000</td>\n    </tr>\n    <tr>\n      <th>std</th>\n      <td>3.306063</td>\n      <td>32.068636</td>\n      <td>19.188315</td>\n      <td>16.103243</td>\n      <td>111.180534</td>\n      <td>8.149901</td>\n      <td>0.323553</td>\n      <td>11.786423</td>\n      <td>0.474498</td>\n    </tr>\n    <tr>\n      <th>min</th>\n      <td>0.000000</td>\n      <td>0.000000</td>\n      <td>0.000000</td>\n      <td>0.000000</td>\n      <td>0.000000</td>\n      <td>0.000000</td>\n      <td>0.078000</td>\n      <td>21.000000</td>\n      <td>0.000000</td>\n    </tr>\n    <tr>\n      <th>25%</th>\n      <td>1.000000</td>\n      <td>99.000000</td>\n      <td>63.500000</td>\n      <td>0.000000</td>\n      <td>0.000000</td>\n      <td>27.375000</td>\n      <td>0.244000</td>\n      <td>24.000000</td>\n      <td>0.000000</td>\n    </tr>\n    <tr>\n      <th>50%</th>\n      <td>3.000000</td>\n      <td>117.000000</td>\n      <td>72.000000</td>\n      <td>23.000000</td>\n      <td>40.000000</td>\n      <td>32.300000</td>\n      <td>0.376000</td>\n      <td>29.000000</td>\n      <td>0.000000</td>\n    </tr>\n    <tr>\n      <th>75%</th>\n      <td>6.000000</td>\n      <td>141.000000</td>\n      <td>80.000000</td>\n      <td>32.000000</td>\n      <td>130.000000</td>\n      <td>36.800000</td>\n      <td>0.624000</td>\n      <td>40.000000</td>\n      <td>1.000000</td>\n    </tr>\n    <tr>\n      <th>max</th>\n      <td>17.000000</td>\n      <td>199.000000</td>\n      <td>122.000000</td>\n      <td>110.000000</td>\n      <td>744.000000</td>\n      <td>80.600000</td>\n      <td>2.420000</td>\n      <td>81.000000</td>\n      <td>1.000000</td>\n    </tr>\n  </tbody>\n</table>\n</div>"
     },
     "metadata": {},
     "execution_count": 32
    }
   ],
   "source": [
    "df.describe()"
   ]
  },
  {
   "cell_type": "code",
   "execution_count": 33,
   "metadata": {},
   "outputs": [
    {
     "output_type": "execute_result",
     "data": {
      "text/plain": [
       "Pregnancies                   int64\n",
       "Glucose                       int64\n",
       "BloodPressure                 int64\n",
       "SkinThickness                 int64\n",
       "Insulin                       int64\n",
       "BMI                         float64\n",
       "DiabetesPedigreeFunction    float64\n",
       "Age                           int64\n",
       "Outcome                       int64\n",
       "dtype: object"
      ]
     },
     "metadata": {},
     "execution_count": 33
    }
   ],
   "source": [
    "df.dtypes"
   ]
  },
  {
   "cell_type": "code",
   "execution_count": 34,
   "metadata": {},
   "outputs": [],
   "source": [
    "df.drop(['DiabetesPedigreeFunction'], axis = 1, inplace=True)"
   ]
  },
  {
   "cell_type": "code",
   "execution_count": 35,
   "metadata": {},
   "outputs": [
    {
     "output_type": "stream",
     "name": "stderr",
     "text": [
      "C:\\Users\\Satyam\\anaconda3\\lib\\site-packages\\pandas\\core\\indexing.py:670: SettingWithCopyWarning: \nA value is trying to be set on a copy of a slice from a DataFrame\n\nSee the caveats in the documentation: https://pandas.pydata.org/pandas-docs/stable/user_guide/indexing.html#returning-a-view-versus-a-copy\n  iloc._setitem_with_indexer(indexer, value)\nC:\\Users\\Satyam\\anaconda3\\lib\\site-packages\\pandas\\core\\indexing.py:670: SettingWithCopyWarning: \nA value is trying to be set on a copy of a slice from a DataFrame\n\nSee the caveats in the documentation: https://pandas.pydata.org/pandas-docs/stable/user_guide/indexing.html#returning-a-view-versus-a-copy\n  iloc._setitem_with_indexer(indexer, value)\n"
     ]
    }
   ],
   "source": [
    "df['BloodPressure'].loc[(df['BloodPressure'] <= 30)] = np.nan\n",
    "df['Glucose'].loc[(df['Glucose'] <= 45)] = np.nan"
   ]
  },
  {
   "cell_type": "code",
   "execution_count": 36,
   "metadata": {},
   "outputs": [],
   "source": [
    "df['Glucose'].replace(to_replace=np.nan, value =df['Glucose'].mean(), inplace = True)\n",
    "df['BloodPressure'].replace(to_replace=np.nan, value =df['BloodPressure'].mean(), inplace = True)"
   ]
  },
  {
   "cell_type": "code",
   "execution_count": 37,
   "metadata": {},
   "outputs": [
    {
     "output_type": "execute_result",
     "data": {
      "text/plain": [
       "     Pregnancies     Glucose  BloodPressure  SkinThickness  Insulin   BMI  \\\n",
       "0              2  138.000000       62.00000             35        0  33.6   \n",
       "1              0   84.000000       82.00000             31      125  38.2   \n",
       "2              0  145.000000       72.52126              0        0  44.2   \n",
       "3              0  135.000000       68.00000             42      250  42.3   \n",
       "4              1  139.000000       62.00000             41      480  40.7   \n",
       "..           ...         ...            ...            ...      ...   ...   \n",
       "340            1  130.000000       70.00000             13      105  25.9   \n",
       "341            1   95.000000       74.00000             21       73  25.9   \n",
       "342            1  122.053904       68.00000             35        0  32.0   \n",
       "343            5  122.000000       86.00000              0        0  34.7   \n",
       "344            8   95.000000       72.00000              0        0  36.8   \n",
       "\n",
       "     Age  Outcome  \n",
       "0     47        1  \n",
       "1     23        0  \n",
       "2     31        1  \n",
       "3     24        1  \n",
       "4     21        0  \n",
       "..   ...      ...  \n",
       "340   22        0  \n",
       "341   36        0  \n",
       "342   22        0  \n",
       "343   33        0  \n",
       "344   57        0  \n",
       "\n",
       "[345 rows x 8 columns]"
      ],
      "text/html": "<div>\n<style scoped>\n    .dataframe tbody tr th:only-of-type {\n        vertical-align: middle;\n    }\n\n    .dataframe tbody tr th {\n        vertical-align: top;\n    }\n\n    .dataframe thead th {\n        text-align: right;\n    }\n</style>\n<table border=\"1\" class=\"dataframe\">\n  <thead>\n    <tr style=\"text-align: right;\">\n      <th></th>\n      <th>Pregnancies</th>\n      <th>Glucose</th>\n      <th>BloodPressure</th>\n      <th>SkinThickness</th>\n      <th>Insulin</th>\n      <th>BMI</th>\n      <th>Age</th>\n      <th>Outcome</th>\n    </tr>\n  </thead>\n  <tbody>\n    <tr>\n      <th>0</th>\n      <td>2</td>\n      <td>138.000000</td>\n      <td>62.00000</td>\n      <td>35</td>\n      <td>0</td>\n      <td>33.6</td>\n      <td>47</td>\n      <td>1</td>\n    </tr>\n    <tr>\n      <th>1</th>\n      <td>0</td>\n      <td>84.000000</td>\n      <td>82.00000</td>\n      <td>31</td>\n      <td>125</td>\n      <td>38.2</td>\n      <td>23</td>\n      <td>0</td>\n    </tr>\n    <tr>\n      <th>2</th>\n      <td>0</td>\n      <td>145.000000</td>\n      <td>72.52126</td>\n      <td>0</td>\n      <td>0</td>\n      <td>44.2</td>\n      <td>31</td>\n      <td>1</td>\n    </tr>\n    <tr>\n      <th>3</th>\n      <td>0</td>\n      <td>135.000000</td>\n      <td>68.00000</td>\n      <td>42</td>\n      <td>250</td>\n      <td>42.3</td>\n      <td>24</td>\n      <td>1</td>\n    </tr>\n    <tr>\n      <th>4</th>\n      <td>1</td>\n      <td>139.000000</td>\n      <td>62.00000</td>\n      <td>41</td>\n      <td>480</td>\n      <td>40.7</td>\n      <td>21</td>\n      <td>0</td>\n    </tr>\n    <tr>\n      <th>...</th>\n      <td>...</td>\n      <td>...</td>\n      <td>...</td>\n      <td>...</td>\n      <td>...</td>\n      <td>...</td>\n      <td>...</td>\n      <td>...</td>\n    </tr>\n    <tr>\n      <th>340</th>\n      <td>1</td>\n      <td>130.000000</td>\n      <td>70.00000</td>\n      <td>13</td>\n      <td>105</td>\n      <td>25.9</td>\n      <td>22</td>\n      <td>0</td>\n    </tr>\n    <tr>\n      <th>341</th>\n      <td>1</td>\n      <td>95.000000</td>\n      <td>74.00000</td>\n      <td>21</td>\n      <td>73</td>\n      <td>25.9</td>\n      <td>36</td>\n      <td>0</td>\n    </tr>\n    <tr>\n      <th>342</th>\n      <td>1</td>\n      <td>122.053904</td>\n      <td>68.00000</td>\n      <td>35</td>\n      <td>0</td>\n      <td>32.0</td>\n      <td>22</td>\n      <td>0</td>\n    </tr>\n    <tr>\n      <th>343</th>\n      <td>5</td>\n      <td>122.000000</td>\n      <td>86.00000</td>\n      <td>0</td>\n      <td>0</td>\n      <td>34.7</td>\n      <td>33</td>\n      <td>0</td>\n    </tr>\n    <tr>\n      <th>344</th>\n      <td>8</td>\n      <td>95.000000</td>\n      <td>72.00000</td>\n      <td>0</td>\n      <td>0</td>\n      <td>36.8</td>\n      <td>57</td>\n      <td>0</td>\n    </tr>\n  </tbody>\n</table>\n<p>345 rows × 8 columns</p>\n</div>"
     },
     "metadata": {},
     "execution_count": 37
    }
   ],
   "source": [
    "df.head(345)"
   ]
  },
  {
   "cell_type": "code",
   "execution_count": 38,
   "metadata": {},
   "outputs": [
    {
     "output_type": "execute_result",
     "data": {
      "text/plain": [
       "Pregnancies      0\n",
       "Glucose          0\n",
       "BloodPressure    0\n",
       "SkinThickness    0\n",
       "Insulin          0\n",
       "BMI              0\n",
       "Age              0\n",
       "Outcome          0\n",
       "dtype: int64"
      ]
     },
     "metadata": {},
     "execution_count": 38
    }
   ],
   "source": [
    "df.isnull().sum()"
   ]
  },
  {
   "cell_type": "code",
   "execution_count": 39,
   "metadata": {},
   "outputs": [],
   "source": [
    "# (df['SkinThickness'] == 0).sum()"
   ]
  },
  {
   "cell_type": "code",
   "execution_count": 40,
   "metadata": {},
   "outputs": [],
   "source": [
    "X = df.iloc[:,:-1]\n",
    "y = df.iloc[:,-1]"
   ]
  },
  {
   "cell_type": "code",
   "execution_count": 41,
   "metadata": {},
   "outputs": [],
   "source": [
    "# X.drop('DiabetesPedigreeFunction',axis = 1,inplace=True)"
   ]
  },
  {
   "cell_type": "code",
   "execution_count": 42,
   "metadata": {},
   "outputs": [
    {
     "output_type": "execute_result",
     "data": {
      "text/plain": [
       "      Pregnancies  Glucose  BloodPressure  SkinThickness  Insulin   BMI  Age\n",
       "0               2    138.0       62.00000             35        0  33.6   47\n",
       "1               0     84.0       82.00000             31      125  38.2   23\n",
       "2               0    145.0       72.52126              0        0  44.2   31\n",
       "3               0    135.0       68.00000             42      250  42.3   24\n",
       "4               1    139.0       62.00000             41      480  40.7   21\n",
       "...           ...      ...            ...            ...      ...   ...  ...\n",
       "1995            2     75.0       64.00000             24       55  29.7   33\n",
       "1996            8    179.0       72.00000             42      130  32.7   36\n",
       "1997            6     85.0       78.00000              0        0  31.2   42\n",
       "1998            0    129.0      110.00000             46      130  67.1   26\n",
       "1999            2     81.0       72.00000             15       76  30.1   25\n",
       "\n",
       "[2000 rows x 7 columns]"
      ],
      "text/html": "<div>\n<style scoped>\n    .dataframe tbody tr th:only-of-type {\n        vertical-align: middle;\n    }\n\n    .dataframe tbody tr th {\n        vertical-align: top;\n    }\n\n    .dataframe thead th {\n        text-align: right;\n    }\n</style>\n<table border=\"1\" class=\"dataframe\">\n  <thead>\n    <tr style=\"text-align: right;\">\n      <th></th>\n      <th>Pregnancies</th>\n      <th>Glucose</th>\n      <th>BloodPressure</th>\n      <th>SkinThickness</th>\n      <th>Insulin</th>\n      <th>BMI</th>\n      <th>Age</th>\n    </tr>\n  </thead>\n  <tbody>\n    <tr>\n      <th>0</th>\n      <td>2</td>\n      <td>138.0</td>\n      <td>62.00000</td>\n      <td>35</td>\n      <td>0</td>\n      <td>33.6</td>\n      <td>47</td>\n    </tr>\n    <tr>\n      <th>1</th>\n      <td>0</td>\n      <td>84.0</td>\n      <td>82.00000</td>\n      <td>31</td>\n      <td>125</td>\n      <td>38.2</td>\n      <td>23</td>\n    </tr>\n    <tr>\n      <th>2</th>\n      <td>0</td>\n      <td>145.0</td>\n      <td>72.52126</td>\n      <td>0</td>\n      <td>0</td>\n      <td>44.2</td>\n      <td>31</td>\n    </tr>\n    <tr>\n      <th>3</th>\n      <td>0</td>\n      <td>135.0</td>\n      <td>68.00000</td>\n      <td>42</td>\n      <td>250</td>\n      <td>42.3</td>\n      <td>24</td>\n    </tr>\n    <tr>\n      <th>4</th>\n      <td>1</td>\n      <td>139.0</td>\n      <td>62.00000</td>\n      <td>41</td>\n      <td>480</td>\n      <td>40.7</td>\n      <td>21</td>\n    </tr>\n    <tr>\n      <th>...</th>\n      <td>...</td>\n      <td>...</td>\n      <td>...</td>\n      <td>...</td>\n      <td>...</td>\n      <td>...</td>\n      <td>...</td>\n    </tr>\n    <tr>\n      <th>1995</th>\n      <td>2</td>\n      <td>75.0</td>\n      <td>64.00000</td>\n      <td>24</td>\n      <td>55</td>\n      <td>29.7</td>\n      <td>33</td>\n    </tr>\n    <tr>\n      <th>1996</th>\n      <td>8</td>\n      <td>179.0</td>\n      <td>72.00000</td>\n      <td>42</td>\n      <td>130</td>\n      <td>32.7</td>\n      <td>36</td>\n    </tr>\n    <tr>\n      <th>1997</th>\n      <td>6</td>\n      <td>85.0</td>\n      <td>78.00000</td>\n      <td>0</td>\n      <td>0</td>\n      <td>31.2</td>\n      <td>42</td>\n    </tr>\n    <tr>\n      <th>1998</th>\n      <td>0</td>\n      <td>129.0</td>\n      <td>110.00000</td>\n      <td>46</td>\n      <td>130</td>\n      <td>67.1</td>\n      <td>26</td>\n    </tr>\n    <tr>\n      <th>1999</th>\n      <td>2</td>\n      <td>81.0</td>\n      <td>72.00000</td>\n      <td>15</td>\n      <td>76</td>\n      <td>30.1</td>\n      <td>25</td>\n    </tr>\n  </tbody>\n</table>\n<p>2000 rows × 7 columns</p>\n</div>"
     },
     "metadata": {},
     "execution_count": 42
    }
   ],
   "source": [
    "X"
   ]
  },
  {
   "cell_type": "code",
   "execution_count": 43,
   "metadata": {},
   "outputs": [
    {
     "output_type": "execute_result",
     "data": {
      "text/plain": [
       "0       1\n",
       "1       0\n",
       "2       1\n",
       "3       1\n",
       "4       0\n",
       "       ..\n",
       "1995    0\n",
       "1996    1\n",
       "1997    0\n",
       "1998    1\n",
       "1999    0\n",
       "Name: Outcome, Length: 2000, dtype: int64"
      ]
     },
     "metadata": {},
     "execution_count": 43
    }
   ],
   "source": [
    "y"
   ]
  },
  {
   "cell_type": "code",
   "execution_count": 44,
   "metadata": {},
   "outputs": [],
   "source": [
    "from sklearn.model_selection import train_test_split\n",
    "X_train, X_test, y_train, y_test = train_test_split(X, y, test_size = 0.25, random_state = 0)"
   ]
  },
  {
   "cell_type": "code",
   "execution_count": 45,
   "metadata": {},
   "outputs": [],
   "source": [
    "from sklearn.preprocessing import StandardScaler\n",
    "sc = StandardScaler()\n",
    "X_train = sc.fit_transform(X_train)\n",
    "X_test = sc.transform(X_test)"
   ]
  },
  {
   "cell_type": "code",
   "execution_count": 46,
   "metadata": {},
   "outputs": [
    {
     "output_type": "execute_result",
     "data": {
      "text/plain": [
       "RandomForestClassifier(criterion='entropy', n_estimators=10, random_state=0)"
      ]
     },
     "metadata": {},
     "execution_count": 46
    }
   ],
   "source": [
    "from sklearn.ensemble import RandomForestClassifier\n",
    "classifier = RandomForestClassifier(n_estimators = 10, criterion = 'entropy', random_state = 0)\n",
    "classifier.fit(X_train, y_train)"
   ]
  },
  {
   "cell_type": "code",
   "execution_count": 47,
   "metadata": {},
   "outputs": [],
   "source": [
    "y_pred = classifier.predict(X_test)"
   ]
  },
  {
   "cell_type": "code",
   "execution_count": 48,
   "metadata": {},
   "outputs": [
    {
     "output_type": "execute_result",
     "data": {
      "text/plain": [
       "numpy.ndarray"
      ]
     },
     "metadata": {},
     "execution_count": 48
    }
   ],
   "source": [
    "type(y_pred)"
   ]
  },
  {
   "cell_type": "code",
   "execution_count": 49,
   "metadata": {},
   "outputs": [
    {
     "output_type": "execute_result",
     "data": {
      "text/plain": [
       "pandas.core.series.Series"
      ]
     },
     "metadata": {},
     "execution_count": 49
    }
   ],
   "source": [
    "type(y_test)"
   ]
  },
  {
   "cell_type": "code",
   "execution_count": 50,
   "metadata": {},
   "outputs": [
    {
     "output_type": "execute_result",
     "data": {
      "text/plain": [
       "0.948"
      ]
     },
     "metadata": {},
     "execution_count": 50
    }
   ],
   "source": [
    "from sklearn.metrics import confusion_matrix, accuracy_score\n",
    "accuracy_score(y_test, y_pred)"
   ]
  },
  {
   "cell_type": "code",
   "execution_count": 51,
   "metadata": {},
   "outputs": [
    {
     "output_type": "execute_result",
     "data": {
      "text/plain": [
       "0.9457928537614368"
      ]
     },
     "metadata": {},
     "execution_count": 51
    }
   ],
   "source": [
    "from sklearn.metrics import fbeta_score\n",
    "fbeta_score(y_test, y_pred, average='macro', beta=0.5)"
   ]
  },
  {
   "cell_type": "code",
   "execution_count": 52,
   "metadata": {},
   "outputs": [],
   "source": [
    "import pickle\n",
    "with open('Model_wo_DPF.pkl','wb') as f:\n",
    "    pickle.dump(classifier,f)"
   ]
  }
 ],
 "metadata": {
  "kernelspec": {
   "name": "python385jvsc74a57bd0d08222a74ae472adc7bd74ab69eecfd20e255aa71df8631a4d9dffd68ce6bb8c",
   "display_name": "Python 3.8.5 64-bit ('base': conda)"
  },
  "language_info": {
   "codemirror_mode": {
    "name": "ipython",
    "version": 3
   },
   "file_extension": ".py",
   "mimetype": "text/x-python",
   "name": "python",
   "nbconvert_exporter": "python",
   "pygments_lexer": "ipython3",
   "version": "3.8.5"
  }
 },
 "nbformat": 4,
 "nbformat_minor": 4
}